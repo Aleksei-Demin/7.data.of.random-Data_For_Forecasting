{
 "cells": [
  {
   "cell_type": "markdown",
   "id": "c7ca075e-568a-427a-8e10-966d4c3fdd20",
   "metadata": {},
   "source": [
    "### 1. Импорт библиотек и подготовка датафрейма:"
   ]
  },
  {
   "cell_type": "code",
   "execution_count": 1,
   "id": "aaefc885-21a5-402a-a904-ff4c2ed9c119",
   "metadata": {},
   "outputs": [],
   "source": [
    "import pandas as pd\n",
    "import numpy as np\n",
    "import matplotlib.pyplot as plt\n",
    "import random\n",
    "\n",
    "from ipywidgets import interact, widgets\n",
    "from prophet import Prophet\n",
    "from pandas.tseries.offsets import MonthEnd"
   ]
  },
  {
   "cell_type": "code",
   "execution_count": 2,
   "id": "1250dc1c-17a3-425d-b252-c43e72844bc5",
   "metadata": {},
   "outputs": [
    {
     "data": {
      "text/html": [
       "<div>\n",
       "<style scoped>\n",
       "    .dataframe tbody tr th:only-of-type {\n",
       "        vertical-align: middle;\n",
       "    }\n",
       "\n",
       "    .dataframe tbody tr th {\n",
       "        vertical-align: top;\n",
       "    }\n",
       "\n",
       "    .dataframe thead th {\n",
       "        text-align: right;\n",
       "    }\n",
       "</style>\n",
       "<table border=\"1\" class=\"dataframe\">\n",
       "  <thead>\n",
       "    <tr style=\"text-align: right;\">\n",
       "      <th></th>\n",
       "      <th>product</th>\n",
       "      <th>sale_date</th>\n",
       "      <th>price</th>\n",
       "    </tr>\n",
       "  </thead>\n",
       "  <tbody>\n",
       "    <tr>\n",
       "      <th>0</th>\n",
       "      <td>alpha</td>\n",
       "      <td>2013-01-01</td>\n",
       "      <td>4</td>\n",
       "    </tr>\n",
       "    <tr>\n",
       "      <th>1</th>\n",
       "      <td>alpha</td>\n",
       "      <td>2013-01-01</td>\n",
       "      <td>4</td>\n",
       "    </tr>\n",
       "    <tr>\n",
       "      <th>2</th>\n",
       "      <td>alpha</td>\n",
       "      <td>2013-01-01</td>\n",
       "      <td>3</td>\n",
       "    </tr>\n",
       "    <tr>\n",
       "      <th>3</th>\n",
       "      <td>alpha</td>\n",
       "      <td>2013-01-01</td>\n",
       "      <td>5</td>\n",
       "    </tr>\n",
       "    <tr>\n",
       "      <th>4</th>\n",
       "      <td>alpha</td>\n",
       "      <td>2013-01-01</td>\n",
       "      <td>4</td>\n",
       "    </tr>\n",
       "    <tr>\n",
       "      <th>...</th>\n",
       "      <td>...</td>\n",
       "      <td>...</td>\n",
       "      <td>...</td>\n",
       "    </tr>\n",
       "    <tr>\n",
       "      <th>161245</th>\n",
       "      <td>charlie</td>\n",
       "      <td>2023-12-31</td>\n",
       "      <td>5</td>\n",
       "    </tr>\n",
       "    <tr>\n",
       "      <th>161246</th>\n",
       "      <td>charlie</td>\n",
       "      <td>2023-12-31</td>\n",
       "      <td>5</td>\n",
       "    </tr>\n",
       "    <tr>\n",
       "      <th>161247</th>\n",
       "      <td>charlie</td>\n",
       "      <td>2023-12-31</td>\n",
       "      <td>3</td>\n",
       "    </tr>\n",
       "    <tr>\n",
       "      <th>161248</th>\n",
       "      <td>charlie</td>\n",
       "      <td>2023-12-31</td>\n",
       "      <td>2</td>\n",
       "    </tr>\n",
       "    <tr>\n",
       "      <th>161249</th>\n",
       "      <td>charlie</td>\n",
       "      <td>2023-12-31</td>\n",
       "      <td>2</td>\n",
       "    </tr>\n",
       "  </tbody>\n",
       "</table>\n",
       "<p>161250 rows × 3 columns</p>\n",
       "</div>"
      ],
      "text/plain": [
       "        product  sale_date  price\n",
       "0         alpha 2013-01-01      4\n",
       "1         alpha 2013-01-01      4\n",
       "2         alpha 2013-01-01      3\n",
       "3         alpha 2013-01-01      5\n",
       "4         alpha 2013-01-01      4\n",
       "...         ...        ...    ...\n",
       "161245  charlie 2023-12-31      5\n",
       "161246  charlie 2023-12-31      5\n",
       "161247  charlie 2023-12-31      3\n",
       "161248  charlie 2023-12-31      2\n",
       "161249  charlie 2023-12-31      2\n",
       "\n",
       "[161250 rows x 3 columns]"
      ]
     },
     "execution_count": 2,
     "metadata": {},
     "output_type": "execute_result"
    }
   ],
   "source": [
    "# Создаем список товаров\n",
    "products = ['alpha', 'bravo', 'charlie']\n",
    "\n",
    "# Создаем список дат с равномерным распределением продаж в течение года\n",
    "dates = pd.date_range(start='2013-01-01', end='2023-12-31', freq='D')\n",
    "\n",
    "# Создаем пустой список для хранения данных\n",
    "data = []\n",
    "\n",
    "# Заполняем список данных\n",
    "for date in dates:\n",
    "    # Определяем сезон по месяцу\n",
    "    if date.month in [12, 1, 2]:  # Зима\n",
    "        season = 0\n",
    "    elif date.month in [3, 4, 5]:  # Весна\n",
    "        season = 1\n",
    "    elif date.month in [6, 7, 8]:  # Лето\n",
    "        season = 2\n",
    "    else:  # Осень\n",
    "        season = 3\n",
    "    \n",
    "    # Определяем диапазон продаж для каждого товара в зависимости от сезона\n",
    "    for product in products:\n",
    "        if product == 'alpha':\n",
    "            if season == 0:  # Зима\n",
    "                sales_range = (5, 10)\n",
    "            elif season == 1:  # Весна\n",
    "                sales_range = (20, 30)\n",
    "            elif season == 2:  # Лето\n",
    "                sales_range = (20, 50)\n",
    "            else:  # Осень\n",
    "                sales_range = (5, 10)\n",
    "        elif product == 'bravo':\n",
    "            if season == 0:  # Зима\n",
    "                sales_range = (10, 10)\n",
    "            elif season == 1:  # Весна\n",
    "                sales_range = (10, 10)\n",
    "            elif season == 2:  # Лето\n",
    "                sales_range = (35, 35)\n",
    "            else:  # Осень\n",
    "                sales_range = (10, 10)\n",
    "        elif product == 'charlie':\n",
    "            if season == 0:  # Зима\n",
    "                sales_range = (5, 5)\n",
    "            elif season == 1:  # Весна\n",
    "                sales_range = (5, 5)\n",
    "            elif season == 2:  # Лето\n",
    "                sales_range = (5, 5)\n",
    "            else:  # Осень\n",
    "                sales_range = (5, 5)\n",
    "        \n",
    "        # Генерируем случайное количество продаж в этот день\n",
    "        sales_count = random.randint(*sales_range)\n",
    "        \n",
    "        # Добавляем строки в список данных\n",
    "        for _ in range(sales_count):\n",
    "            data.append({'product': product, 'sale_date': date})\n",
    "\n",
    "# Создаем датафрейм из списка данных\n",
    "df = pd.DataFrame(data)\n",
    "df['price'] = df.apply(lambda row: random.randint(1, 5), axis=1)\n",
    "\n",
    "# Выводим датафрейм\n",
    "df"
   ]
  },
  {
   "cell_type": "markdown",
   "id": "c677a3dd-6702-450a-80fe-fb2c61a4e1bb",
   "metadata": {},
   "source": [
    "### 2. Задания к датафрейму:"
   ]
  },
  {
   "cell_type": "markdown",
   "id": "e946203f-453d-4bb9-8634-7a4c634989f7",
   "metadata": {},
   "source": [
    "1) Вывести на график данные с характерным сезоным очертанием.\n",
    "2) Проверить эффективность прогнозирования на данных с характерным сезоным очертанием."
   ]
  },
  {
   "cell_type": "markdown",
   "id": "703b1216-f56f-4aba-89cd-3aa56dca16b5",
   "metadata": {},
   "source": [
    "#### 1. Вывести на график данные с характерным сезоным очертанием."
   ]
  },
  {
   "cell_type": "code",
   "execution_count": 3,
   "id": "09991107-bfc4-48af-a959-8fee61d204f9",
   "metadata": {},
   "outputs": [
    {
     "data": {
      "image/png": "[encoded data removed]",
      "text/plain": [
       "<Figure size 1400x800 with 1 Axes>"
      ]
     },
     "metadata": {},
     "output_type": "display_data"
    }
   ],
   "source": [
    "# Преобразуем столбец Sale_Date в формат даты\n",
    "df['sale_date'] = pd.to_datetime(df['sale_date'])\n",
    "\n",
    "# Создаем новый столбец Month, содержащий номера месяцев\n",
    "df['month'] = df['sale_date'].dt.month\n",
    "\n",
    "# Группируем данные по товару и месяцу и считаем количество продаж\n",
    "monthly_sales = df.groupby(['product', 'month']).size().unstack()\n",
    "\n",
    "# Строим график\n",
    "monthly_sales.plot(kind='bar', figsize=(14, 8))\n",
    "plt.title('Продажи по месяцам для каждого товара')\n",
    "plt.xlabel('Товары по месяцам')\n",
    "plt.ylabel('Количество продаж')\n",
    "plt.xticks(rotation=0)\n",
    "plt.legend(title='Месяц')\n",
    "plt.tight_layout()\n",
    "plt.show()"
   ]
  },
  {
   "cell_type": "markdown",
   "id": "1ca38b90-916d-4477-9235-78a20283580a",
   "metadata": {},
   "source": [
    "Другой вид графика тех же данных:"
   ]
  },
  {
   "cell_type": "code",
   "execution_count": 4,
   "id": "599de050-699e-46cb-95db-24defa302295",
   "metadata": {},
   "outputs": [
    {
     "data": {
      "application/vnd.jupyter.widget-view+json": {
       "model_id": "57a98f5c7782472986416023caab1b20",
       "version_major": 2,
       "version_minor": 0
      },
      "text/plain": [
       "interactive(children=(Dropdown(description='Product:', options=('alpha', 'bravo', 'charlie'), value='alpha'), …"
      ]
     },
     "metadata": {},
     "output_type": "display_data"
    }
   ],
   "source": [
    "# Создаем копию DataFrame для безопасной работы\n",
    "df_copy = df.copy()\n",
    "\n",
    "# Преобразовываем столбец 'sale_date' в формат даты\n",
    "df_copy['sale_date'] = pd.to_datetime(df_copy['sale_date'])\n",
    "\n",
    "# Создаем новый столбец 'sale_month', содержащий месяц продажи\n",
    "df_copy['sale_month'] = df_copy['sale_date'].dt.to_period('M')\n",
    "\n",
    "# Получаем список всех продуктов\n",
    "all_products = df_copy['product'].unique()\n",
    "\n",
    "def plot_product_sales(product):\n",
    "    # Создаем копию DataFrame с данными только для выбранного продукта\n",
    "    df_product = df_copy[df_copy['product'] == product]\n",
    "    \n",
    "    # Группируем данные по месяцам и суммируем продажи\n",
    "    monthly_sales = df_product.groupby('sale_month')['price'].sum()\n",
    "    \n",
    "    # Строим график\n",
    "    plt.figure(figsize=(14, 8))\n",
    "    monthly_sales.plot(marker='o')\n",
    "    plt.title(f'Динамика продаж товара \"{product}\" по месяцам')\n",
    "    plt.xlabel('Месяц и год')\n",
    "    plt.ylabel('Сумма продаж')\n",
    "    plt.grid(True)\n",
    "    plt.tight_layout()\n",
    "    plt.show()\n",
    "\n",
    "# Создаем виджет для выбора продукта из списка всех продуктов\n",
    "product_dropdown = widgets.Dropdown(options=all_products, description='Product:')\n",
    "\n",
    "# Используем функцию interact для связывания виджета с функцией построения графика\n",
    "interact(plot_product_sales, product=product_dropdown);\n"
   ]
  },
  {
   "cell_type": "markdown",
   "id": "ac06a546-d2a0-4dc4-8727-a806616ec9a2",
   "metadata": {},
   "source": [
    "#### 2. Проверить эффективность прогнозирования на данных с характерным сезоным очертанием."
   ]
  },
  {
   "cell_type": "code",
   "execution_count": 5,
   "id": "b3a0fcaa-e3cf-4c9f-873b-d48923e36cbf",
   "metadata": {},
   "outputs": [
    {
     "data": {
      "application/vnd.jupyter.widget-view+json": {
       "model_id": "d6652754c261481a99004ae13e03c092",
       "version_major": 2,
       "version_minor": 0
      },
      "text/plain": [
       "interactive(children=(Dropdown(description='product:', options=('alpha', 'bravo', 'charlie'), value='alpha'), …"
      ]
     },
     "metadata": {},
     "output_type": "display_data"
    },
    {
     "data": {
      "text/plain": [
       "<function __main__.plot_sales(product)>"
      ]
     },
     "execution_count": 5,
     "metadata": {},
     "output_type": "execute_result"
    }
   ],
   "source": [
    "# Функция для построения графика\n",
    "def plot_sales(product):\n",
    "    # Создаем копию DataFrame для предотвращения изменений исходного DataFrame\n",
    "    df_copy = df.copy()\n",
    "    \n",
    "    df_product = df_copy[df_copy['product'] == product]\n",
    "    # Используем .loc для изменения копии\n",
    "    df_product.loc[:, 'sale_date'] = pd.to_datetime(df_product['sale_date'])\n",
    "    df_product.set_index('sale_date', inplace=True)\n",
    "    \n",
    "    # Определение начальной и конечной даты для обучения модели\n",
    "    start_date = df_product.index.min() + pd.offsets.MonthBegin(1)  # Первый день следующего месяца\n",
    "    end_date = df_product.index.max() - MonthEnd(1)  # Последний день предпоследнего месяца\n",
    "    \n",
    "    # Обрезка датафрейма\n",
    "    df_product = df_product[start_date:end_date]\n",
    "    \n",
    "    # Преобразование данных для использования с Prophet\n",
    "    df_prophet = df_product.resample('M').size().reset_index()\n",
    "    df_prophet.columns = ['ds', 'y']\n",
    "    \n",
    "    # Создание и обучение модели Prophet\n",
    "    model = Prophet()\n",
    "    model.fit(df_prophet)\n",
    "    \n",
    "    # Создание DataFrame для прогноза\n",
    "    future = model.make_future_dataframe(periods=12, freq='M')\n",
    "    forecast = model.predict(future)\n",
    "    \n",
    "    # Фильтрация прогноза, чтобы показать только следующий месяц\n",
    "    next_month_forecast = forecast.loc[forecast['ds'] > df_prophet['ds'].max()]\n",
    "    \n",
    "    # Построение графика\n",
    "    plt.figure(figsize=(14, 8))\n",
    "    \n",
    "    # Отображение фактических данных за весь период\n",
    "    plt.plot(df_prophet['ds'],\n",
    "             df_prophet['y'],\n",
    "             marker='o',\n",
    "             label='Исходные данные')\n",
    "    \n",
    "    # Отображение прогноза следующего месяца\n",
    "    plt.plot(next_month_forecast['ds'],\n",
    "             next_month_forecast['yhat'],\n",
    "             linestyle='--',\n",
    "             color='red',\n",
    "             marker='o',\n",
    "             label='Прогноз')\n",
    "    \n",
    "    plt.title(f'Сумма продаж в {product} по месяцам с прогнозом')\n",
    "    plt.xlabel('Месяц и год')\n",
    "    plt.ylabel('Сумма продаж')\n",
    "    plt.legend()\n",
    "    plt.grid()\n",
    "    plt.tight_layout()\n",
    "    plt.show()\n",
    "\n",
    "# Создание выпадающего списка для выбора места продаж\n",
    "df_product_widget = widgets.Dropdown(\n",
    "    options=df_copy['product'].unique().tolist(),\n",
    "    description='product:',\n",
    ")\n",
    "\n",
    "# Вызов функции построения графика при изменении значения выпадающего списка\n",
    "interact(plot_sales, product=df_product_widget)"
   ]
  },
  {
   "cell_type": "markdown",
   "id": "af99b884-fb3a-481c-a9dd-8190dcc4fd03",
   "metadata": {},
   "source": [
    "Видно что метод Prophet отлично повторяет сезонность данных для прогнозирования."
   ]
  }
 ],
 "metadata": {
  "kernelspec": {
   "display_name": "Python 3 (ipykernel)",
   "language": "python",
   "name": "python3"
  },
  "language_info": {
   "codemirror_mode": {
    "name": "ipython",
    "version": 3
   },
   "file_extension": ".py",
   "mimetype": "text/x-python",
   "name": "python",
   "nbconvert_exporter": "python",
   "pygments_lexer": "ipython3",
   "version": "3.12.0"
  }
 },
 "nbformat": 4,
 "nbformat_minor": 5
}
